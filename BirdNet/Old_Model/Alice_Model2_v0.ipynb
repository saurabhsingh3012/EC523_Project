{
 "cells": [
  {
   "cell_type": "code",
   "execution_count": 1,
   "id": "27023cee",
   "metadata": {},
   "outputs": [],
   "source": [
    "import os, sys , glob, math\n",
    "import numpy as np \n",
    "import time\n",
    "\n",
    "import warnings\n",
    "import shutil\n",
    "warnings.filterwarnings(action='ignore')\n",
    "import argparse\n",
    "import pandas as pd\n",
    "import librosa\n",
    "import librosa.display\n",
    "import seaborn as sns; sns.set(style='whitegrid')\n",
    "\n",
    "\n",
    "from sklearn.utils import shuffle\n",
    "from PIL import Image\n",
    "from tqdm import tqdm,tnrange,tqdm_notebook  ## Progress bar\n",
    "\n",
    "import tensorflow as tf\n",
    "from tensorflow import keras\n",
    "\n",
    "## Imports for plotting\n",
    "import matplotlib.pyplot as plt\n",
    "%matplotlib inline \n",
    "\n",
    "# from IPython.display import set_matplotlib_formats\n",
    "# set_matplotlib_formats('svg', 'pdf') # For export\n",
    "import matplotlib_inline.backend_inline\n",
    "matplotlib_inline.backend_inline.set_matplotlib_formats('svg', 'png')\n",
    "import matplotlib as mpl\n",
    "from matplotlib.colors import to_rgba"
   ]
  },
  {
   "cell_type": "code",
   "execution_count": 2,
   "id": "3c45e92b",
   "metadata": {},
   "outputs": [
    {
     "name": "stdout",
     "output_type": "stream",
     "text": [
      "Defaulting to user installation because normal site-packages is not writeable\n",
      "Requirement already satisfied: birdnetlib in /usr4/dl523/alicrose/.local/lib/python3.8/site-packages (0.3.1)\n",
      "Requirement already satisfied: matplotlib==3.5.3 in /usr4/dl523/alicrose/.local/lib/python3.8/site-packages (from birdnetlib) (3.5.3)\n",
      "Requirement already satisfied: watchdog==2.1.9 in /usr4/dl523/alicrose/.local/lib/python3.8/site-packages (from birdnetlib) (2.1.9)\n",
      "Requirement already satisfied: pydub==0.25.1 in /usr4/dl523/alicrose/.local/lib/python3.8/site-packages (from birdnetlib) (0.25.1)\n",
      "Requirement already satisfied: pyparsing>=2.2.1 in /share/pkg.7/python3/3.8.10/install/lib/python3.8/site-packages (from matplotlib==3.5.3->birdnetlib) (2.4.7)\n",
      "Requirement already satisfied: cycler>=0.10 in /share/pkg.7/python3/3.8.10/install/lib/python3.8/site-packages (from matplotlib==3.5.3->birdnetlib) (0.10.0)\n",
      "Requirement already satisfied: pillow>=6.2.0 in /usr4/dl523/alicrose/.local/lib/python3.8/site-packages (from matplotlib==3.5.3->birdnetlib) (8.2.0)\n",
      "Requirement already satisfied: kiwisolver>=1.0.1 in /share/pkg.7/python3/3.8.10/install/lib/python3.8/site-packages (from matplotlib==3.5.3->birdnetlib) (1.3.1)\n",
      "Requirement already satisfied: numpy>=1.17 in /share/pkg.7/tensorflow/2.8.0/install/lib/python3.8/site-packages (from matplotlib==3.5.3->birdnetlib) (1.22.3)\n",
      "Requirement already satisfied: python-dateutil>=2.7 in /usr4/dl523/alicrose/.local/lib/python3.8/site-packages (from matplotlib==3.5.3->birdnetlib) (2.8.0)\n",
      "Requirement already satisfied: packaging>=20.0 in /share/pkg.7/python3/3.8.10/install/lib/python3.8/site-packages (from matplotlib==3.5.3->birdnetlib) (20.9)\n",
      "Requirement already satisfied: fonttools>=4.22.0 in /usr4/dl523/alicrose/.local/lib/python3.8/site-packages (from matplotlib==3.5.3->birdnetlib) (4.39.2)\n",
      "Requirement already satisfied: six in /share/pkg.7/tensorflow/2.8.0/install/lib/python3.8/site-packages (from cycler>=0.10->matplotlib==3.5.3->birdnetlib) (1.16.0)\n",
      "\u001b[33mWARNING: You are using pip version 21.1.1; however, version 23.0.1 is available.\n",
      "You should consider upgrading via the '/share/pkg.7/python3/3.8.10/install/bin/python3.8 -m pip install --upgrade pip' command.\u001b[0m\n",
      "Note: you may need to restart the kernel to use updated packages.\n"
     ]
    }
   ],
   "source": [
    "pip install birdnetlib"
   ]
  },
  {
   "cell_type": "code",
   "execution_count": 3,
   "id": "55adf238",
   "metadata": {},
   "outputs": [
    {
     "name": "stdout",
     "output_type": "stream",
     "text": [
      "Defaulting to user installation because normal site-packages is not writeable\n",
      "Requirement already satisfied: ffmpeg in /usr4/dl523/alicrose/.local/lib/python3.8/site-packages (1.4)\n",
      "\u001b[33mWARNING: You are using pip version 21.1.1; however, version 23.0.1 is available.\n",
      "You should consider upgrading via the '/share/pkg.7/python3/3.8.10/install/bin/python3.8 -m pip install --upgrade pip' command.\u001b[0m\n",
      "Note: you may need to restart the kernel to use updated packages.\n"
     ]
    }
   ],
   "source": [
    "pip install ffmpeg"
   ]
  },
  {
   "cell_type": "code",
   "execution_count": null,
   "id": "cf147167",
   "metadata": {},
   "outputs": [],
   "source": [
    "#pip install tflite-runtime"
   ]
  },
  {
   "cell_type": "code",
   "execution_count": 4,
   "id": "37386c66",
   "metadata": {},
   "outputs": [],
   "source": [
    "from birdnetlib import Recording\n",
    "from birdnetlib.analyzer import Analyzer\n",
    "from datetime import datetime"
   ]
  },
  {
   "cell_type": "code",
   "execution_count": 5,
   "id": "e0412e54",
   "metadata": {},
   "outputs": [],
   "source": [
    "import config as cfg"
   ]
  },
  {
   "cell_type": "code",
   "execution_count": 6,
   "id": "5ab084cf",
   "metadata": {},
   "outputs": [],
   "source": [
    "import model as model"
   ]
  },
  {
   "cell_type": "code",
   "execution_count": 7,
   "id": "71f65468",
   "metadata": {},
   "outputs": [
    {
     "name": "stdout",
     "output_type": "stream",
     "text": [
      "load model\n",
      "Model loaded.\n",
      "Labels loaded.\n",
      "Labels loaded.\n",
      "load_species_list_model\n",
      "Meta model loaded.\n",
      "read_audio_data\n",
      "read_audio_data: complete, read  20 chunks.\n",
      "analyze_recording example/Soundscape_1.wav\n",
      "recording has lon/lat\n",
      "set_predicted_species_list_from_position\n",
      "return_predicted_species_list\n",
      "18\n",
      "154 species loaded.\n"
     ]
    },
    {
     "name": "stderr",
     "output_type": "stream",
     "text": [
      "INFO: Created TensorFlow Lite XNNPACK delegate for CPU.\n"
     ]
    },
    {
     "name": "stdout",
     "output_type": "stream",
     "text": [
      "[{'common_name': 'Red-winged Blackbird', 'scientific_name': 'Agelaius phoeniceus', 'start_time': 6.0, 'end_time': 9.0, 'confidence': 0.3501680791378021}, {'common_name': 'Red-winged Blackbird', 'scientific_name': 'Agelaius phoeniceus', 'start_time': 12.0, 'end_time': 15.0, 'confidence': 0.4611172378063202}, {'common_name': 'Red-winged Blackbird', 'scientific_name': 'Agelaius phoeniceus', 'start_time': 15.0, 'end_time': 18.0, 'confidence': 0.88193279504776}, {'common_name': 'Red-winged Blackbird', 'scientific_name': 'Agelaius phoeniceus', 'start_time': 18.0, 'end_time': 21.0, 'confidence': 0.8223252296447754}, {'common_name': 'Red-winged Blackbird', 'scientific_name': 'Agelaius phoeniceus', 'start_time': 24.0, 'end_time': 27.0, 'confidence': 0.39940187335014343}, {'common_name': 'Red-winged Blackbird', 'scientific_name': 'Agelaius phoeniceus', 'start_time': 27.0, 'end_time': 30.0, 'confidence': 0.27757763862609863}, {'common_name': 'Red-winged Blackbird', 'scientific_name': 'Agelaius phoeniceus', 'start_time': 30.0, 'end_time': 33.0, 'confidence': 0.7004613280296326}, {'common_name': 'Red-winged Blackbird', 'scientific_name': 'Agelaius phoeniceus', 'start_time': 33.0, 'end_time': 36.0, 'confidence': 0.2946920692920685}, {'common_name': 'Red-winged Blackbird', 'scientific_name': 'Agelaius phoeniceus', 'start_time': 36.0, 'end_time': 39.0, 'confidence': 0.5465502738952637}, {'common_name': 'Red-winged Blackbird', 'scientific_name': 'Agelaius phoeniceus', 'start_time': 48.0, 'end_time': 51.0, 'confidence': 0.3002043068408966}, {'common_name': 'Red-winged Blackbird', 'scientific_name': 'Agelaius phoeniceus', 'start_time': 51.0, 'end_time': 54.0, 'confidence': 0.39413875341415405}, {'common_name': 'Red-winged Blackbird', 'scientific_name': 'Agelaius phoeniceus', 'start_time': 57.0, 'end_time': 60.0, 'confidence': 0.641424834728241}]\n"
     ]
    }
   ],
   "source": [
    "analyzer = Analyzer()\n",
    "\n",
    "recording = Recording(\n",
    "    analyzer,\n",
    "    \"example/Soundscape_1.wav\",\n",
    "    lat=35.4244,\n",
    "    lon=-120.7463,\n",
    "    date=datetime(year=2022, month=5, day=10), # use date or week_48\n",
    "    min_conf=0.25,\n",
    ")\n",
    "recording.analyze()\n",
    "print(recording.detections)"
   ]
  },
  {
   "cell_type": "code",
   "execution_count": null,
   "id": "995141c0",
   "metadata": {},
   "outputs": [],
   "source": []
  }
 ],
 "metadata": {
  "kernelspec": {
   "display_name": "Python 3 (ipykernel)",
   "language": "python",
   "name": "python3"
  },
  "language_info": {
   "codemirror_mode": {
    "name": "ipython",
    "version": 3
   },
   "file_extension": ".py",
   "mimetype": "text/x-python",
   "name": "python",
   "nbconvert_exporter": "python",
   "pygments_lexer": "ipython3",
   "version": "3.8.10"
  }
 },
 "nbformat": 4,
 "nbformat_minor": 5
}
